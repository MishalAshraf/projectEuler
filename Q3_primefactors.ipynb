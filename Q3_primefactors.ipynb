{
 "cells": [
  {
   "cell_type": "code",
   "execution_count": 1,
   "metadata": {},
   "outputs": [],
   "source": [
    "## 13195 prime factors are 5, 7, 13, 29\n",
    "## The largest prime factor of 600851475143?"
   ]
  },
  {
   "cell_type": "code",
   "execution_count": 2,
   "metadata": {},
   "outputs": [
    {
     "data": {
      "text/plain": [
       "13195"
      ]
     },
     "execution_count": 2,
     "metadata": {},
     "output_type": "execute_result"
    }
   ],
   "source": [
    "5*7*13*29"
   ]
  },
  {
   "cell_type": "markdown",
   "metadata": {},
   "source": [
    "Are Prime Factorizations Unique? Google says yes. \n",
    "This is good because if they were not and there were multiple prime factorizations this would require computing all.\n",
    "Can be somewhat recursive, we try and divide the number by a larger number until we are successful. It is probably computationally expensive to do this all the way up to the number if we keep failing (which will happen if the number is prime). "
   ]
  },
  {
   "cell_type": "code",
   "execution_count": 3,
   "metadata": {},
   "outputs": [],
   "source": [
    "##This can be somewhat recursive. We take the big number, call \"prime factor\" on it. It decompose"
   ]
  },
  {
   "cell_type": "code",
   "execution_count": 21,
   "metadata": {},
   "outputs": [],
   "source": [
    "def primefactor(X):\n",
    "    for i in range(2,int(X+1/2)):\n",
    "        print(i)\n",
    "        if X % i == 0:\n",
    "            j = int(X / i)\n",
    "            if i == ((X+1)/2):\n",
    "                return [X, 1]\n",
    "            elif i != int((X+1)/2):\n",
    "                return [j, i]\n",
    "           # elif: X == i:\n",
    "                   # return [1, X]"
   ]
  },
  {
   "cell_type": "code",
   "execution_count": 33,
   "metadata": {},
   "outputs": [],
   "source": [
    "def primes(X):\n",
    "    for i in range(2,X):\n",
    "        if X % i != 0:\n",
    "            if i < (X+1)/2:\n",
    "                pass\n",
    "            if i > (X+1)/2:\n",
    "                return [X,1]\n",
    "        if X% i == 0:\n",
    "            j = int(X / i)\n",
    "            return [j, i]"
   ]
  },
  {
   "cell_type": "code",
   "execution_count": 29,
   "metadata": {},
   "outputs": [
    {
     "name": "stdout",
     "output_type": "stream",
     "text": [
      "5\n",
      "[2639, 5]\n"
     ]
    }
   ],
   "source": [
    "print(primes(13195))"
   ]
  },
  {
   "cell_type": "code",
   "execution_count": 30,
   "metadata": {},
   "outputs": [
    {
     "ename": "IndexError",
     "evalue": "list index out of range",
     "output_type": "error",
     "traceback": [
      "\u001b[0;31m---------------------------------------------------------------------------\u001b[0m",
      "\u001b[0;31mIndexError\u001b[0m                                Traceback (most recent call last)",
      "\u001b[0;32m<ipython-input-30-f88362c125ca>\u001b[0m in \u001b[0;36m<module>\u001b[0;34m\u001b[0m\n\u001b[1;32m      1\u001b[0m \u001b[0mtest_array\u001b[0m \u001b[0;34m=\u001b[0m \u001b[0;34m[\u001b[0m\u001b[0;34m]\u001b[0m\u001b[0;34m\u001b[0m\u001b[0;34m\u001b[0m\u001b[0m\n\u001b[0;32m----> 2\u001b[0;31m \u001b[0;32mif\u001b[0m \u001b[0mtest_array\u001b[0m\u001b[0;34m[\u001b[0m\u001b[0;36m1\u001b[0m\u001b[0;34m]\u001b[0m \u001b[0;34m!=\u001b[0m \u001b[0;36m0\u001b[0m\u001b[0;34m:\u001b[0m\u001b[0;34m\u001b[0m\u001b[0;34m\u001b[0m\u001b[0m\n\u001b[0m\u001b[1;32m      3\u001b[0m     \u001b[0mprint\u001b[0m\u001b[0;34m(\u001b[0m\u001b[0;34m\"yes\"\u001b[0m\u001b[0;34m)\u001b[0m\u001b[0;34m\u001b[0m\u001b[0;34m\u001b[0m\u001b[0m\n",
      "\u001b[0;31mIndexError\u001b[0m: list index out of range"
     ]
    }
   ],
   "source": [
    "test_array = []\n",
    "if test_array[1] != 0:\n",
    "    print(\"yes\")"
   ]
  },
  {
   "cell_type": "markdown",
   "metadata": {},
   "source": [
    "I am also realizing that iterating to N is unncessary. 2 is the smallest integer a number has to be divisible by for i. To test 9 there is no need to iterate past 5, 9/6 cannot be an interger. \n",
    "\n",
    "Now, I can take any number and find the smallest factor, and return the quotient of factor and input number. \n",
    "i need to make a loop that:\n",
    "takes input number, runs it through prime factor.\n",
    "with the output [j, i] runs j through primes(). Stores i in overall array. \n",
    "Repeats until i = 1. \n",
    "When i = 1. Store, j, i. end. "
   ]
  },
  {
   "cell_type": "code",
   "execution_count": 34,
   "metadata": {},
   "outputs": [],
   "source": [
    "def allprimefactors(X):\n",
    "    all_prime_factors = []\n",
    "    outputs = primes(X)\n",
    "    \n",
    "    while outputs[1] != 1:\n",
    "        all_prime_factors.append(outputs[1])\n",
    "        outputs = primes(outputs[0])  \n",
    "\n",
    "    all_prime_factors.append(outputs[0])\n",
    "    return all_prime_factors\n",
    "\n",
    "        \n",
    "        "
   ]
  },
  {
   "cell_type": "code",
   "execution_count": 35,
   "metadata": {},
   "outputs": [
    {
     "name": "stdout",
     "output_type": "stream",
     "text": [
      "[5, 7, 13, 29]\n"
     ]
    }
   ],
   "source": [
    "print(allprimefactors(13195))"
   ]
  },
  {
   "cell_type": "code",
   "execution_count": 36,
   "metadata": {},
   "outputs": [
    {
     "name": "stdout",
     "output_type": "stream",
     "text": [
      "[71, 839, 1471, 6857]\n"
     ]
    }
   ],
   "source": [
    "print(allprimefactors(600851475143))"
   ]
  },
  {
   "cell_type": "code",
   "execution_count": 37,
   "metadata": {},
   "outputs": [
    {
     "data": {
      "text/plain": [
       "600851475143"
      ]
     },
     "execution_count": 37,
     "metadata": {},
     "output_type": "execute_result"
    }
   ],
   "source": [
    "71*839*1471*6857"
   ]
  },
  {
   "cell_type": "code",
   "execution_count": 38,
   "metadata": {},
   "outputs": [
    {
     "name": "stdout",
     "output_type": "stream",
     "text": [
      "[2, 2, 2, 3, 3, 1259, 6628403]\n"
     ]
    }
   ],
   "source": [
    "print(allprimefactors(600851475144))"
   ]
  },
  {
   "cell_type": "markdown",
   "metadata": {},
   "source": [
    "Because we start with the largest number and work our way down, the largest factor should always be the last element of the array"
   ]
  },
  {
   "cell_type": "code",
   "execution_count": 39,
   "metadata": {},
   "outputs": [],
   "source": [
    "def givemax(factor_array):\n",
    "    return factor_array[:]"
   ]
  },
  {
   "cell_type": "code",
   "execution_count": 40,
   "metadata": {},
   "outputs": [
    {
     "name": "stdout",
     "output_type": "stream",
     "text": [
      "[71, 839, 1471, 6857]\n"
     ]
    }
   ],
   "source": [
    "print(givemax(allprimefactors(600851475143)))"
   ]
  },
  {
   "cell_type": "code",
   "execution_count": null,
   "metadata": {},
   "outputs": [],
   "source": []
  }
 ],
 "metadata": {
  "kernelspec": {
   "display_name": "Python 3",
   "language": "python",
   "name": "python3"
  },
  "language_info": {
   "codemirror_mode": {
    "name": "ipython",
    "version": 3
   },
   "file_extension": ".py",
   "mimetype": "text/x-python",
   "name": "python",
   "nbconvert_exporter": "python",
   "pygments_lexer": "ipython3",
   "version": "3.7.5"
  }
 },
 "nbformat": 4,
 "nbformat_minor": 2
}
