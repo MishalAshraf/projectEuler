{
 "cells": [
  {
   "cell_type": "code",
   "execution_count": 1,
   "metadata": {},
   "outputs": [],
   "source": [
    "## 13195 prime factors are 5, 7, 13, 29\n",
    "## The largest prime factor of 600851475143?"
   ]
  },
  {
   "cell_type": "code",
   "execution_count": 2,
   "metadata": {},
   "outputs": [
    {
     "data": {
      "text/plain": [
       "13195"
      ]
     },
     "execution_count": 2,
     "metadata": {},
     "output_type": "execute_result"
    }
   ],
   "source": [
    "5*7*13*29"
   ]
  },
  {
   "cell_type": "markdown",
   "metadata": {},
   "source": [
    "Are Prime Factorizations Unique? Google says yes. \n",
    "This is good because if they were not and there were multiple prime factorizations this would require computing all.\n",
    "Can be somewhat recursive, we try and divide the number by a larger number until we are successful. It is probably computationally expensive to do this all the way up to the number if we keep failing (which will happen if the number is prime). "
   ]
  },
  {
   "cell_type": "code",
   "execution_count": 4,
   "metadata": {},
   "outputs": [],
   "source": [
    "##This can be somewhat recursive. We take the big number, call \"prime factor\" on it. It decompose"
   ]
  },
  {
   "cell_type": "code",
   "execution_count": 26,
   "metadata": {},
   "outputs": [],
   "source": [
    "def primefactor(X):\n",
    "    for i in range(2,X+1):\n",
    "        print(i)\n",
    "        if X % i == 0:\n",
    "            if X != i:\n",
    "                j = int(X / i)\n",
    "                return [j, i]\n",
    "           # elif: X == i:\n",
    "                   # return [1, X]\n",
    "        "
   ]
  },
  {
   "cell_type": "code",
   "execution_count": 27,
   "metadata": {},
   "outputs": [
    {
     "name": "stdout",
     "output_type": "stream",
     "text": [
      "2\n",
      "3\n",
      "4\n",
      "5\n",
      "None\n"
     ]
    }
   ],
   "source": [
    "print(primefactor(5))"
   ]
  },
  {
   "cell_type": "code",
   "execution_count": null,
   "metadata": {},
   "outputs": [],
   "source": []
  },
  {
   "cell_type": "code",
   "execution_count": null,
   "metadata": {},
   "outputs": [],
   "source": []
  }
 ],
 "metadata": {
  "kernelspec": {
   "display_name": "Python 3",
   "language": "python",
   "name": "python3"
  },
  "language_info": {
   "codemirror_mode": {
    "name": "ipython",
    "version": 3
   },
   "file_extension": ".py",
   "mimetype": "text/x-python",
   "name": "python",
   "nbconvert_exporter": "python",
   "pygments_lexer": "ipython3",
   "version": "3.7.5"
  }
 },
 "nbformat": 4,
 "nbformat_minor": 2
}
